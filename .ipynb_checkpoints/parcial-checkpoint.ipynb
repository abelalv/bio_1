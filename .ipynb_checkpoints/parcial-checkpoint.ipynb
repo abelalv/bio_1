{
 "cells": [
  {
   "cell_type": "markdown",
   "metadata": {},
   "source": [
    "# Universidad Javeriana Cali\n",
    "## Matemáticas para Biología I \n",
    "## Parcial 1\n",
    "### Agosto 26 de 2024\n"
   ]
  },
  {
   "cell_type": "markdown",
   "metadata": {},
   "source": [
    "1. Encuentra la expresión general de las siguientes sucesiones\n",
    " \n",
    "+ $\\{-1/2,3/4,-5/8,7/16,-9/32,11/64,... \\}$\n",
    "\n",
    "2. Muestre si la sucesión converge o diverge y en caso de converger encuentre el límite de las siguientes sucesiones \n",
    "\n",
    " $c_n = \\frac{2n^2+3n+1}{n^2+1}$\n",
    "\n",
    "\n",
    "3. Encuentre el límite de las siguientes funciones\n",
    "\n",
    "+ $\\lim_{x\\to -\\infty} e^{-\\frac{2x^3-3x^2+1}{3x^3+2x^2+1}}$\n",
    "+ $\\lim_{x\\to 0} \\frac{x^4-3x^3+x^2}{x^4-3x^2}$\n",
    "\n",
    "\n",
    "4.  Calcule\n",
    "\n",
    "+ $\\lim_{x\\to 0}g(x)$\n",
    "\n",
    "+ $\\lim_{x\\to 2^+}g(x)$\n",
    "\n",
    "+ $\\lim_{x\\to 2^-}g(x)$\n",
    "\n",
    "+ $\\lim_{x\\to \\infty}g(x)$\n",
    "\n",
    "+ $\\lim_{x\\to -\\infty}g(x)$\n",
    "\n",
    "![Limites](figures/limi_funtion.png)\n",
    "\n",
    "\n",
    "5. Un paciente recibe una inyección de 150 mg de un medicamento cada 4 horas. El gráfico muestra la cantidad de medicamento en el torrente sanguíneo después de t horas. Encuentra\n",
    "\n",
    "$$\\lim_{x\\to 12^-}f(x)$$\n",
    "\n",
    "$$\\lim_{x\\to 12^+}f(x)$$\n",
    "\n",
    "y explica el significado de estos límites unilaterales.\n",
    "\n",
    "\n",
    "![Medicamento](figures/medicene.png)"
   ]
  }
 ],
 "metadata": {
  "language_info": {
   "name": "python"
  }
 },
 "nbformat": 4,
 "nbformat_minor": 2
}
