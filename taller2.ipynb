{
 "cells": [
  {
   "cell_type": "markdown",
   "metadata": {},
   "source": [
    "# Taller 2\n",
    "\n",
    "\n",
    "**Encuentre los primeros 10 números de la sucesión**\n",
    "\n",
    "1.  $a_n=\\frac{(-1)^n}{10}$\n",
    "\n",
    "2. $a_n=\\frac{1}{3}\\Big(\\frac{1}{2}\\Big)^{n-1}$\n",
    "\n",
    "3. $c_n=2^n-1$\n",
    "\n",
    "\n",
    "4. Describa con sus palabras la sucesión que significa que una sucesión sea convergente \n",
    "\n",
    "5. Describa con sus palabras la sucesión que significa que una sucesión sea divergente\n",
    "\n",
    "6. La siguiente sucesión converge o diverge? Justifique su respuesta, si converge encuentre el límite de la sucesión\n",
    "    $$a_n=5-\\frac{-1}{n^2}+\\Big(\\frac{5}{3}\\Big)^n$$\n",
    "\n",
    "7. La siguiente sucesión converge o diverge? Justifique su respuesta, si converge encuentre el límite de la sucesión\n",
    "\n",
    "    $$a_n=\\frac{2n^2+3n+1}{n^2+1}$$\n",
    "\n",
    "    **Sugerencia encontrar los primeros  10 términos de la sucesión, es acotada, es monótona**\n",
    "\n",
    "\n",
    "8. La siguiente sucesión converge o diverge? Justifique su respuesta, si converge encuentre el límite de la sucesión\n",
    "\n",
    "    $$x_{t+1}=cx_{t}(1-x_t)$$\n",
    "\n",
    "\n",
    "    a. $x_0=0.8$, $c=2.8$\n",
    "\n",
    "    b. $x_0=0.4$, $c=3.4$"
   ]
  },
  {
   "cell_type": "code",
   "execution_count": 4,
   "metadata": {},
   "outputs": [
    {
     "data": {
      "text/plain": [
       "(6*x**2 - 20*x + 6, [1/3, 3])"
      ]
     },
     "execution_count": 4,
     "metadata": {},
     "output_type": "execute_result"
    }
   ],
   "source": [
    "import numpy as np\n",
    "import sympy as sp\n",
    "\n",
    "# Definir la variable\n",
    "x = sp.symbols('x')\n",
    "\n",
    "# Definir el polinomio\n",
    "polinomio = 2*x**3 - 10*x**2 + 6*x\n",
    "\n",
    "# Derivar el polinomio\n",
    "derivada = sp.diff(polinomio, x)\n",
    "\n",
    "# Encontrar los puntos críticos\n",
    "puntos_criticos = sp.solve(derivada, x)\n",
    "\n",
    "derivada, puntos_criticos"
   ]
  }
 ],
 "metadata": {
  "kernelspec": {
   "display_name": "class",
   "language": "python",
   "name": "python3"
  },
  "language_info": {
   "codemirror_mode": {
    "name": "ipython",
    "version": 3
   },
   "file_extension": ".py",
   "mimetype": "text/x-python",
   "name": "python",
   "nbconvert_exporter": "python",
   "pygments_lexer": "ipython3",
   "version": "3.12.3"
  }
 },
 "nbformat": 4,
 "nbformat_minor": 4
}
