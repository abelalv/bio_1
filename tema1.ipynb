{
 "cells": [
  {
   "cell_type": "markdown",
   "metadata": {},
   "source": [
    "\n",
    "Una **sucesión** es una lista ordenada de números, llamados términos, que generalmente siguen un patrón específico o una regla matemática. Cada término en la sucesión está asociado a una posición o índice. Por ejemplo, la sucesión de los números naturales $1, 2, 3, 4, 5, \\ldots$ es una sucesión en la que cada término es el siguiente número natural.\n",
    "\n",
    "Las **sucesiones recursivas** son aquellas en las que cada término se define en función de los términos anteriores. En otras palabras, se utiliza una fórmula de recurrencia para determinar los términos de la sucesión. Un ejemplo clásico de sucesión recursiva es la **sucesión de Fibonacci**, donde cada término es la suma de los dos términos anteriores:\n",
    "\n",
    "$$\n",
    "F_n = F_{n-1} + F_{n-2}\n",
    "$$\n",
    "\n",
    "con las condiciones iniciales $F_0 = 0$ y $F_1 = 1$. Así, los primeros términos de la sucesión de Fibonacci serían: $0, 1, 1, 2, 3, 5, 8, 13, \\ldots$.\n",
    "\n",
    "En resumen, las sucesiones recursivas son herramientas poderosas en matemáticas y ciencias, ya que permiten describir complejas relaciones entre términos de una secuencia mediante reglas simples y elegantes.\n",
    "\n",
    "\n",
    "![Fibonacci](figures/fibonacci.png)\n",
    "\n",
    "[Algunas curiosidades](https://www.biocuriosidades.com/recursos-docentes/la-sucesion-de-fibonacci-y-la-proporcion-aurea/)\n",
    "\n",
    "\n",
    "**Notación general**\n",
    "Una sucesión se denota generalmente como $\\{a_n\\}$, donde $a_n$ es el $n$-ésimo término de la sucesión. De forma genral se puede escribir \n",
    "\n",
    "$$a_{n+1} = f(a_n,a_{n-1}, a_{n-2}, \\ldots, a_{n-k})$$"
   ]
  },
  {
   "cell_type": "markdown",
   "metadata": {},
   "source": [
    "\n",
    "Una **sucesión de diferencias de primer orden** es una nueva sucesión obtenida al calcular las diferencias entre términos consecutivos de la sucesión original. Si tenemos una sucesión $a_1, a_2, a_3, \\ldots$, la sucesión de primeras diferencias $\\Delta a$ se define como:\n",
    "\n",
    "$$\n",
    "\\Delta a_n = a_{n+1} - a_n\n",
    "$$\n",
    "\n",
    "Esta técnica se utiliza para analizar la tasa de cambio y detectar patrones en la sucesión original.\n",
    "\n",
    "$$a_{n+1}-a_n=g(a_n)$$\n",
    "$$a_{n+1}=a_n+g(a_n)=f(a_{n+1})$$\n",
    "\n",
    "\n",
    "tomando $a_n=x$ podemos escribir\n",
    "\n",
    "$$f(x)=x+g(x).$$\n"
   ]
  },
  {
   "cell_type": "markdown",
   "metadata": {},
   "source": [
    "**Notación** Podemos reemplazar $t$ por $n$ donde $t$ para representar el tiempo para que una célula se divida, o un insecto se reproduzca. De esta manera, $a_t$ representa la cantidad de células o insectos en el tiempo $t$.\n",
    "\n",
    "**Ejemplo** El parasito de la malaria se reproduce cada 24 horas y reproduce 8 nuevos parasitos, así \n",
    "\n",
    "$$N_{t+1}=8N_t,\\text{ tomando }N_1=1$$\n",
    "\n",
    "$$N_{t}=8^t$$\n",
    "\n",
    "**Ejemplo** E. coli la población inicial es de $N_0$ si se reproduce cada 20 minutos y se reproduce 2 veces, entonces\n",
    "\n",
    "$$N_{t}=2^tN_0,\\text{ tomando }N_0=1$$\n",
    "\n",
    "**De forma general** Una población de células  se divide sincronicamentecon cadas células produciendo $R$ hijos en cada división, entonces\n",
    "\n",
    "$$N_{t}=R^tN_0.$$\n",
    "\n",
    "$R$ **se llama el factor de crecimiento per capita**.\n",
    "\n",
    "\n"
   ]
  },
  {
   "cell_type": "markdown",
   "metadata": {},
   "source": [
    "Una ecuación general para la población de insectos consiste en contabilizar la tasa de nacimientos y la tasa de muertes. Si $\\beta$ es la tasa de nacimientos y $\\mu$ es la tasa de muertes, entonces la ecuación de crecimiento de la población de insectos se puede escribir como:\n",
    "\n",
    "$$N_{t+1} = N_t + inflow - outflow$$\n",
    "\n",
    "si suponemos que la población sobrevive únicamente un ciclo de vida, entonces\n",
    "\n",
    "$$N_{t+1} = N_t + \\beta N_t - \\mu N_t $$\n",
    "\n",
    "después de contabilizar la población de la próxima generación $\\mu=1$ y $\\beta=R$ entonces\n",
    "\n",
    "$$N_{t+1} = R N_t$$"
   ]
  },
  {
   "cell_type": "markdown",
   "metadata": {},
   "source": [
    "* ¿Como podemos intermpretar la ecuación anterior si $\\mu=0$?"
   ]
  },
  {
   "cell_type": "code",
   "execution_count": 2,
   "metadata": {},
   "outputs": [
    {
     "data": {
      "application/vnd.jupyter.widget-view+json": {
       "model_id": "1d130eddabd2489eae665f08dd0b955f",
       "version_major": 2,
       "version_minor": 0
      },
      "text/plain": [
       "interactive(children=(FloatSlider(value=1.0, description='N0', max=10.0, min=1.0, step=0.5), FloatSlider(value…"
      ]
     },
     "metadata": {},
     "output_type": "display_data"
    },
    {
     "data": {
      "text/plain": [
       "<function __main__.sucesion(N0, R)>"
      ]
     },
     "execution_count": 2,
     "metadata": {},
     "output_type": "execute_result"
    }
   ],
   "source": [
    "import matplotlib.pyplot as plt\n",
    "import numpy as np\n",
    "from ipywidgets import interact, FloatSlider\n",
    "\n",
    "# Definimos la función para la sucesión\n",
    "def sucesion(N0, R):\n",
    "    N = [N0]\n",
    "    for _ in range(100):  # Generamos 100 términos de la sucesión\n",
    "        N.append(R * N[-1])\n",
    "    plt.figure(figsize=(10, 6))\n",
    "    plt.plot(N, marker='o', linestyle='-', color='b')\n",
    "    plt.title(f'Sucesión $N_{{t+1}} = R \\\\cdot N_t$, con $R = {R}$')\n",
    "    plt.xlabel('Iteraciones')\n",
    "    plt.ylabel('$N_t$')\n",
    "    plt.grid(True)\n",
    "    plt.show()\n",
    "\n",
    "# Creamos un slider interactivo para R\n",
    "interact(sucesion, \n",
    "         N0=FloatSlider(min=1, max=10, step=0.5, value=1, description='N0'),\n",
    "         R=FloatSlider(min=0, max=2, step=0.1, value=1, description='R'))"
   ]
  },
  {
   "cell_type": "markdown",
   "metadata": {},
   "source": [
    "Note que este crecimiento no es realista puesto que si la tasa de reproducción es mayor que 1 entonces la población crecerá indefinidamente.\n",
    "\n",
    "\n",
    "+ ¿Porqué es importante el crecimiento exponencial?\n",
    "\n",
    "+ ¿Por qué si $R<0$ decrece la población?\n",
    "\n"
   ]
  },
  {
   "cell_type": "markdown",
   "metadata": {},
   "source": [
    "## Modelos lógistico\n",
    "\n",
    "El modelo logístico es un modelo matemático que describe el crecimiento de una población en función del tiempo. Este modelo tiene en cuenta la capacidad de carga del entorno, es decir, el número máximo de individuos que el entorno puede soportar de forma sostenible. La ecuación logística se puede escribir como:\n",
    "\n",
    "$$N_{t+1} =  N_t\\Big[1+r \\Big(1 - \\frac{N_t}{k}\\Big)\\Big]$$\n",
    "\n",
    "\n",
    "donde $r$ es la tasa de crecimiento intrínseco de la población y $k$ es la capacidad de carga del entorno. La capacidad de carga es el número máximo de individuos que el entorno puede soportar de forma sostenible.\n",
    "\n",
    "\n",
    "**¿Cómo podemos interpretar $r \\Big(1 - \\frac{N_t}{k}\\Big)$?**"
   ]
  },
  {
   "cell_type": "code",
   "execution_count": 4,
   "metadata": {},
   "outputs": [
    {
     "data": {
      "application/vnd.jupyter.widget-view+json": {
       "model_id": "ae39f0b639d64a9f9ea6aa8087b81f98",
       "version_major": 2,
       "version_minor": 0
      },
      "text/plain": [
       "interactive(children=(FloatSlider(value=1.0, description='N0', max=10.0, min=1.0, step=0.5), FloatSlider(value…"
      ]
     },
     "metadata": {},
     "output_type": "display_data"
    },
    {
     "data": {
      "text/plain": [
       "<function __main__.sucesion(N0, r, k)>"
      ]
     },
     "execution_count": 4,
     "metadata": {},
     "output_type": "execute_result"
    }
   ],
   "source": [
    "import matplotlib.pyplot as plt\n",
    "import numpy as np\n",
    "from ipywidgets import interact, FloatSlider\n",
    "\n",
    "# Definimos la función para la sucesión\n",
    "def sucesion(N0, r, k):\n",
    "    N = [N0]\n",
    "    for _ in range(100):  # Generamos 100 términos de la sucesión\n",
    "        N.append(N[-1] * (1 + r * (1 - N[-1] / k)))\n",
    "    plt.figure(figsize=(10, 6))\n",
    "    plt.plot(N, marker='o', linestyle='-', color='b')\n",
    "    #plt.title(f'Sucesión $N_{{t+1}} = N_t \\left[1 + r \\left(1 - \\\\frac{{N_t}}{{k}}\\right)\\right]$')\n",
    "    plt.xlabel('Iteraciones')\n",
    "    plt.ylabel('$N_t$')\n",
    "    plt.grid(True)\n",
    "    plt.show()\n",
    "\n",
    "# Creamos sliders interactivos para N0, r y k\n",
    "interact(sucesion, \n",
    "         N0=FloatSlider(min=1, max=10, step=0.5, value=1, description='N0'),\n",
    "         r=FloatSlider(min=0, max=2, step=0.1, value=0.5, description='r'),\n",
    "         k=FloatSlider(min=1, max=20, step=1, value=10, description='k'))\n"
   ]
  },
  {
   "cell_type": "markdown",
   "metadata": {},
   "source": [
    "Tomando \n",
    "\n",
    "$$x_t=\\frac{r}{(1+r)k} N_t$$\n",
    "\n",
    "tenemos que\n",
    "\n",
    "$$x_{t+1}=\\frac{r}{(1+r)k} N_{t+1}=\\frac{r}{(1+r)k} N_t\\Big[1+r \\Big(1 - \\frac{N_t}{k}\\Big)\\Big]$$\n",
    "\n",
    "$$x_{t+1}=\\frac{r}{k} N_t - \\frac{r^2N_t^2}{(1+r)k^2}$$\n",
    "\n",
    "\n",
    "de la primera ecuación podemos despejar $N_t$ y tenemos\n",
    "\n",
    "$$N_t=\\frac{(1+r)k}{r}x_t$$\n",
    "\n",
    "y sustituyendo\n",
    "\n",
    "$$x_{t+1}=\\frac{r}{k} \\frac{(1+r)k}{r}x_t - \\frac{r^2}{(1+r)k^2}\\frac{(1+r)^2k^2}{r^2}x_t^2$$\n",
    "\n",
    "\n",
    "Así,\n",
    "\n",
    "$$x_{t+1}=(1+r)x_t-(1+r)x_t^2$$\n",
    "$$x_{t+1}=(1+r)x_t(1-x_t)$$\n",
    "\n",
    "De esta foram escribimos $R_{max}=1+r$ el cual es el valor más grande de $R$ como una función de $N_t$, Así tenemos\n",
    "la ecuación logistica \n",
    "\n",
    "$$x_{t+1}=R_{max}x_t(1-x_t)$$\n",
    "\n",
    "es tambien llamada ecuacion "
   ]
  }
 ],
 "metadata": {
  "kernelspec": {
   "display_name": "Python 3",
   "language": "python",
   "name": "python3"
  },
  "language_info": {
   "codemirror_mode": {
    "name": "ipython",
    "version": 3
   },
   "file_extension": ".py",
   "mimetype": "text/x-python",
   "name": "python",
   "nbconvert_exporter": "python",
   "pygments_lexer": "ipython3",
   "version": "3.12.3"
  }
 },
 "nbformat": 4,
 "nbformat_minor": 2
}
