{
 "cells": [
  {
   "cell_type": "markdown",
   "metadata": {},
   "source": [
    "\n",
    "Una **sucesión** es una lista ordenada de números, llamados términos, que generalmente siguen un patrón específico o una regla matemática. Cada término en la sucesión está asociado a una posición o índice. Por ejemplo, la sucesión de los números naturales $1, 2, 3, 4, 5, \\ldots$ es una sucesión en la que cada término es el siguiente número natural.\n",
    "\n",
    "Las **sucesiones recursivas** son aquellas en las que cada término se define en función de los términos anteriores. En otras palabras, se utiliza una fórmula de recurrencia para determinar los términos de la sucesión. Un ejemplo clásico de sucesión recursiva es la **sucesión de Fibonacci**, donde cada término es la suma de los dos términos anteriores:\n",
    "\n",
    "$$\n",
    "F_n = F_{n-1} + F_{n-2}\n",
    "$$\n",
    "\n",
    "con las condiciones iniciales $F_0 = 0$ y $F_1 = 1$. Así, los primeros términos de la sucesión de Fibonacci serían: $0, 1, 1, 2, 3, 5, 8, 13, \\ldots$.\n",
    "\n",
    "En resumen, las sucesiones recursivas son herramientas poderosas en matemáticas y ciencias, ya que permiten describir complejas relaciones entre términos de una secuencia mediante reglas simples y elegantes.\n",
    "\n",
    "\n",
    "![Fibonacci](figures/fibonacci.png)\n",
    "\n",
    "[Algunas curiosidades](https://www.biocuriosidades.com/recursos-docentes/la-sucesion-de-fibonacci-y-la-proporcion-aurea/)\n",
    "\n",
    "\n",
    "**Notación general**\n",
    "Una sucesión se denota generalmente como $\\{a_n\\}$, donde $a_n$ es el $n$-ésimo término de la sucesión. De forma genral se puede escribir \n",
    "\n",
    "$$a_{n+1} = f(a_n,a_{n-1}, a_{n-2}, \\ldots, a_{n-k})$$"
   ]
  },
  {
   "cell_type": "markdown",
   "metadata": {},
   "source": [
    "\n",
    "Una **sucesión de diferencias de primer orden** es una nueva sucesión obtenida al calcular las diferencias entre términos consecutivos de la sucesión original. Si tenemos una sucesión $a_1, a_2, a_3, \\ldots$, la sucesión de primeras diferencias $\\Delta a$ se define como:\n",
    "\n",
    "$$\n",
    "\\Delta a_n = a_{n+1} - a_n\n",
    "$$\n",
    "\n",
    "Esta técnica se utiliza para analizar la tasa de cambio y detectar patrones en la sucesión original.\n",
    "\n",
    "$$a_{n+1}-a_n=g(a_n)$$\n",
    "$$a_{n+1}=a_n+g(a_n)=f(a_{n+1})$$\n",
    "\n",
    "\n",
    "tomando $a_n=x$ podemos escribir\n",
    "\n",
    "$$f(x)=x+g(x).$$\n"
   ]
  },
  {
   "cell_type": "markdown",
   "metadata": {},
   "source": [
    "**Notación** Podemos reemplazar $t$ por $n$ donde $t$ para representar el tiempo para que una célula se divida, o un insecto se reproduzca. De esta manera, $a_t$ representa la cantidad de células o insectos en el tiempo $t$.\n",
    "\n",
    "**Ejemplo** El parasito de la malaria se reproduce cada 24 horas y reproduce 8 nuevos parasitos, así \n",
    "\n",
    "$$N_{t+1}=8N_t,\\text{ tomando }N_1=1$$\n",
    "\n",
    "$$N_{t}=8^t$$\n",
    "\n",
    "**Ejemplo** E. coli la población inicial es de $N_0$ si se reproduce cada 20 minutos y se reproduce 2 veces, entonces\n",
    "\n",
    "$$N_{t}=2^tN_0,\\text{ tomando }N_0=1$$\n",
    "\n",
    "**De forma general** Una población de células  se divide sincronicamentecon cadas células produciendo $R$ hijos en cada división, entonces\n",
    "\n",
    "$$N_{t}=R^tN_0.$$\n",
    "\n",
    "$R$ **se llama el factor de crecimiento per capita**.\n",
    "\n",
    "\n"
   ]
  },
  {
   "cell_type": "markdown",
   "metadata": {},
   "source": [
    "Una ecuación general para la población de insectos consiste en contabilizar la tasa de nacimientos y la tasa de muertes. Si $\\beta$ es la tasa de nacimientos y $\\mu$ es la tasa de muertes, entonces la ecuación de crecimiento de la población de insectos se puede escribir como:\n",
    "\n",
    "$$N_{t+1} = N_t + inflow - outflow$$\n",
    "\n",
    "si suponemos que la población sobrevive únicamente un ciclo de vida, entonces\n",
    "\n",
    "$$N_{t+1} = N_t + \\beta N_t - \\mu N_t $$\n",
    "\n",
    "después de contabilizar la población de la próxima generación $\\mu=1$ y $\\beta=R$ entonces\n",
    "\n",
    "$$N_{t+1} = R N_t$$"
   ]
  },
  {
   "cell_type": "markdown",
   "metadata": {},
   "source": [
    "* ¿Como podemos intermpretar la ecuación anterior si $\\mu=0$?"
   ]
  },
  {
   "cell_type": "code",
   "execution_count": 2,
   "metadata": {},
   "outputs": [
    {
     "data": {
      "application/vnd.jupyter.widget-view+json": {
       "model_id": "1d130eddabd2489eae665f08dd0b955f",
       "version_major": 2,
       "version_minor": 0
      },
      "text/plain": [
       "interactive(children=(FloatSlider(value=1.0, description='N0', max=10.0, min=1.0, step=0.5), FloatSlider(value…"
      ]
     },
     "metadata": {},
     "output_type": "display_data"
    },
    {
     "data": {
      "text/plain": [
       "<function __main__.sucesion(N0, R)>"
      ]
     },
     "execution_count": 2,
     "metadata": {},
     "output_type": "execute_result"
    }
   ],
   "source": [
    "import matplotlib.pyplot as plt\n",
    "import numpy as np\n",
    "from ipywidgets import interact, FloatSlider\n",
    "\n",
    "# Definimos la función para la sucesión\n",
    "def sucesion(N0, R):\n",
    "    N = [N0]\n",
    "    for _ in range(100):  # Generamos 100 términos de la sucesión\n",
    "        N.append(R * N[-1])\n",
    "    plt.figure(figsize=(10, 6))\n",
    "    plt.plot(N, marker='o', linestyle='-', color='b')\n",
    "    plt.title(f'Sucesión $N_{{t+1}} = R \\\\cdot N_t$, con $R = {R}$')\n",
    "    plt.xlabel('Iteraciones')\n",
    "    plt.ylabel('$N_t$')\n",
    "    plt.grid(True)\n",
    "    plt.show()\n",
    "\n",
    "# Creamos un slider interactivo para R\n",
    "interact(sucesion, \n",
    "         N0=FloatSlider(min=1, max=10, step=0.5, value=1, description='N0'),\n",
    "         R=FloatSlider(min=0, max=2, step=0.1, value=1, description='R'))"
   ]
  },
  {
   "cell_type": "markdown",
   "metadata": {},
   "source": [
    "Note que este crecimiento no es realista puesto que si la tasa de reproducción es mayor que 1 entonces la población crecerá indefinidamente.\n",
    "\n",
    "\n",
    "+ ¿Porqué es importante el crecimiento exponencial?\n",
    "\n",
    "+ ¿Por qué si $R<0$ decrece la población?\n",
    "\n"
   ]
  },
  {
   "cell_type": "markdown",
   "metadata": {},
   "source": [
    "## Modelos lógistico\n",
    "\n",
    "El modelo logístico es un modelo matemático que describe el crecimiento de una población en función del tiempo. Este modelo tiene en cuenta la capacidad de carga del entorno, es decir, el número máximo de individuos que el entorno puede soportar de forma sostenible. La ecuación logística se puede escribir como:\n",
    "\n",
    "$$N_{t+1} =  N_t\\Big[1+r \\Big(1 - \\frac{N_t}{k}\\Big)\\Big]$$\n",
    "\n",
    "\n",
    "donde $r$ es la tasa de crecimiento intrínseco de la población y $k$ es la capacidad de carga del entorno. La capacidad de carga es el número máximo de individuos que el entorno puede soportar de forma sostenible.\n",
    "\n",
    "\n",
    "**¿Cómo podemos interpretar $r \\Big(1 - \\frac{N_t}{k}\\Big)$?**"
   ]
  },
  {
   "cell_type": "code",
   "execution_count": 4,
   "metadata": {},
   "outputs": [
    {
     "data": {
      "application/vnd.jupyter.widget-view+json": {
       "model_id": "53e5035554994fe79e983da734b7b0c7",
       "version_major": 2,
       "version_minor": 0
      },
      "text/plain": [
       "interactive(children=(FloatSlider(value=1.0, description='N0', max=10.0, min=1.0, step=0.5), FloatSlider(value…"
      ]
     },
     "metadata": {},
     "output_type": "display_data"
    },
    {
     "data": {
      "text/plain": [
       "<function __main__.sucesion(N0, r, k)>"
      ]
     },
     "execution_count": 4,
     "metadata": {},
     "output_type": "execute_result"
    }
   ],
   "source": [
    "import matplotlib.pyplot as plt\n",
    "import numpy as np\n",
    "from ipywidgets import interact, FloatSlider\n",
    "\n",
    "# Definimos la función para la sucesión\n",
    "def sucesion(N0, r, k):\n",
    "    N = [N0]\n",
    "    for _ in range(100):  # Generamos 100 términos de la sucesión\n",
    "        N.append(N[-1] * (1 + r * (1 - N[-1] / k)))\n",
    "    plt.figure(figsize=(10, 6))\n",
    "    plt.plot(N, marker='o', linestyle='-', color='b')\n",
    "    #plt.title(f'Sucesión $N_{{t+1}} = N_t \\left[1 + r \\left(1 - \\\\frac{{N_t}}{{k}}\\right)\\right]$')\n",
    "    plt.xlabel('Iteraciones')\n",
    "    plt.ylabel('$N_t$')\n",
    "    plt.grid(True)\n",
    "    plt.show()\n",
    "\n",
    "# Creamos sliders interactivos para N0, r y k\n",
    "interact(sucesion, \n",
    "         N0=FloatSlider(min=1, max=10, step=0.5, value=1, description='N0'),\n",
    "         r=FloatSlider(min=0, max=2, step=0.1, value=0.5, description='r'),\n",
    "         k=FloatSlider(min=1, max=20, step=1, value=10, description='k'))\n"
   ]
  },
  {
   "cell_type": "markdown",
   "metadata": {},
   "source": [
    "Tomando \n",
    "\n",
    "$$x_t=\\frac{r}{(1+r)k} N_t$$\n",
    "\n",
    "tenemos que\n",
    "\n",
    "$$x_{t+1}=\\frac{r}{(1+r)k} N_{t+1}=\\frac{r}{(1+r)k} N_t\\Big[1+r \\Big(1 - \\frac{N_t}{k}\\Big)\\Big]$$\n",
    "\n",
    "$$x_{t+1}=\\frac{r}{k} N_t - \\frac{r^2N_t^2}{(1+r)k^2}$$\n",
    "\n",
    "\n",
    "de la primera ecuación podemos despejar $N_t$ y tenemos\n",
    "\n",
    "$$N_t=\\frac{(1+r)k}{r}x_t$$\n",
    "\n",
    "y sustituyendo\n",
    "\n",
    "$$x_{t+1}=\\frac{r}{k} \\frac{(1+r)k}{r}x_t - \\frac{r^2}{(1+r)k^2}\\frac{(1+r)^2k^2}{r^2}x_t^2$$\n",
    "\n",
    "\n",
    "Así,\n",
    "\n",
    "$$x_{t+1}=(1+r)x_t-(1+r)x_t^2$$\n",
    "$$x_{t+1}=(1+r)x_t(1-x_t)$$\n",
    "\n",
    "De esta foram escribimos $R_{max}=1+r$ el cual es el valor más grande de $R$ como una función de $N_t$, Así tenemos\n",
    "la ecuación logistica \n",
    "\n",
    "$$x_{t+1}=R_{max}x_t(1-x_t)$$\n",
    "\n",
    "es tambien llamada ecuacion "
   ]
  },
  {
   "cell_type": "code",
   "execution_count": 30,
   "metadata": {},
   "outputs": [
    {
     "data": {
      "application/vnd.jupyter.widget-view+json": {
       "model_id": "a6aaa4873a17435ba94e56ebbb49679b",
       "version_major": 2,
       "version_minor": 0
      },
      "text/plain": [
       "interactive(children=(FloatSlider(value=0.5, description='N0', max=1.0, step=0.05), FloatSlider(value=3.2, des…"
      ]
     },
     "metadata": {},
     "output_type": "display_data"
    },
    {
     "data": {
      "text/plain": [
       "<function __main__.logistic_function(N0, R)>"
      ]
     },
     "execution_count": 30,
     "metadata": {},
     "output_type": "execute_result"
    }
   ],
   "source": [
    "import matplotlib.pyplot as plt\n",
    "import numpy as np\n",
    "from ipywidgets import interact, FloatSlider\n",
    "\n",
    "def logistic_function(N0, R):\n",
    "    N = [N0]\n",
    "    rango = 100\n",
    "    for _ in range(rango):\n",
    "        N.append(R * N[-1] * (1 - N[-1]))\n",
    "    \n",
    "    plt.figure(figsize=(10, 6))\n",
    "    plt.plot(range(1, rango+2), N, marker='o', linestyle='', color='b')\n",
    "    plt.title('Logistic Function')\n",
    "    plt.xlabel('Iterations')\n",
    "    plt.ylabel('Population')\n",
    "    plt.grid(True)\n",
    "    plt.show()\n",
    "\n",
    "interact(logistic_function, \n",
    "         N0=FloatSlider(min=0, max=1, step=0.05, value=0.5, description='N0'),\n",
    "         R=FloatSlider(min=0, max=5, step=0.1, value=3.2, description='R'))\n",
    "\n"
   ]
  },
  {
   "cell_type": "markdown",
   "metadata": {},
   "source": [
    "# Sucesiones\n",
    "\n",
    "Una sucesión es una lista ordenada de números. Por ejemplo, la sucesión de los primeros 5 números naturales es 1, 2, 3, 4, 5. En general, una sucesión puede ser finita o infinita. En este problema, se te dará una sucesión de números y deberás determinar si es creciente, decreciente o ninguna de las dos.\n",
    "\n",
    "$$a_n=\\frac{1}{n}$$\n",
    "\n",
    "Los primeros 5 términos de la sucesión son:\n",
    "\n",
    "$$1, \\frac{1}{2}, \\frac{1}{3}, \\frac{1}{4}, \\frac{1}{5}$$\n",
    "\n",
    "si los escribimos en decimal, obtenemos:\n",
    "\n",
    "$$1, 0.5, 0.333333, 0.25, 0.2$$\n"
   ]
  },
  {
   "cell_type": "code",
   "execution_count": 33,
   "metadata": {},
   "outputs": [
    {
     "data": {
      "image/png": "[encoded data removed]",
      "text/plain": [
       "<Figure size 1000x600 with 1 Axes>"
      ]
     },
     "metadata": {},
     "output_type": "display_data"
    }
   ],
   "source": [
    "\n",
    "import matplotlib.pyplot as plt\n",
    "import numpy as np\n",
    "from ipywidgets import interact, FloatSlider\n",
    "\n",
    "rango=20\n",
    "def function():\n",
    "    N = []\n",
    "    for j in range(rango):\n",
    "        N.append((-1)**(j-1))\n",
    "    \n",
    "    plt.figure(figsize=(10, 6))\n",
    "    plt.plot(range(1, rango+1),N, marker='o', linestyle='', color='b')\n",
    "    plt.title('Logistic Function')\n",
    "    plt.xlabel('Iterations')\n",
    "    plt.ylabel('Population')\n",
    "    plt.grid(True)\n",
    "    plt.show()\n",
    "\n",
    "function()\n"
   ]
  },
  {
   "cell_type": "markdown",
   "metadata": {},
   "source": [
    "# Definición de un límite informal\n",
    " Se dice que una sucesión $\\{a_n\\}$ tiene un límite $L$ o tiende a $L$ cuando $n$ tiende es significativamente grande entonces  $a_n$ se acerca a $L$. En otras palabras, la sucesión se acerca a un valor fijo a medida que $n$ se hace muy grande. Matemáticamente, esto se puede expresar como:\n",
    "\n",
    "$$\\lim_{n \\to \\infty} a_n = L$$\n",
    "\n",
    "En caso contrario se dice que la sucesión diverge.\n"
   ]
  },
  {
   "cell_type": "markdown",
   "metadata": {},
   "source": [
    "![Fibonacci](figures/susimage.png)"
   ]
  },
  {
   "cell_type": "markdown",
   "metadata": {},
   "source": [
    "Un limite importate \n",
    "\n",
    "$$\\lim_{n \\to \\infty} \\frac{1}{n}=0$$\n",
    "\n",
    "$$\\lim_{n \\to \\infty} \\frac{1}{n^2}=0$$\n",
    "\n",
    "$$\\lim_{n \\to \\infty} \\frac{1}{n^p}=0\\text{ con }p>0$$ "
   ]
  },
  {
   "cell_type": "markdown",
   "metadata": {},
   "source": [
    "![limites](figures/limites.png)"
   ]
  },
  {
   "cell_type": "markdown",
   "metadata": {},
   "source": [
    "# ejercicios\n",
    "\n",
    "1. $a_n=\\frac{1}{3n^4}$\n",
    "2. $a_n=\\frac{1}{n^2}$\n",
    "3. $a_n=\\frac{2n^2+n-1}{n^2}$\n",
    "4. $a_n=\\frac{n^3-1}{n}$"
   ]
  },
  {
   "cell_type": "markdown",
   "metadata": {},
   "source": [
    "# Sucesión geometrica\n",
    "\n",
    "Una sucesión geométrica es una sucesión en la que cada término se obtiene multiplicando el término anterior por una constante fija. Esta constante se conoce como la razón de la sucesión. Por ejemplo, la sucesión $2, 4, 8, 16, 32, \\ldots$ es una sucesión geométrica con una razón de 2, ya que cada término es el doble del término anterior.\n",
    "\n",
    "\n",
    "# Definición de una sucesión geométrica\n",
    "\n",
    "Una sucesión geométrica es una sucesión de la forma:\n",
    "\n",
    "$$b_n = a \\cdot r^{n-1}$$\n",
    "\n",
    "donde $a$ es el primer término de la sucesión $r$ es la razón común de la sucesión. Por ejemplo, la sucesión $2, 4, 8, 16, 32, \\ldots$ se puede escribir como:\n",
    "\n",
    "$$b_n = 2 \\cdot 2^{n-1}$$\n",
    "    "
   ]
  },
  {
   "cell_type": "markdown",
   "metadata": {},
   "source": [
    "* ¿ que podemos decir del límite de la sucesión?\n",
    "\n",
    "* ¿ que podemos decir de la sucesión si $r>1$?\n",
    "\n",
    "* ¿ que podemos decir de la sucesión si $r<1$?\n",
    "\n",
    "* ¿ que podemos decir de la sucesión si $r=1$?\n",
    "\n",
    "* ¿ que podemos decir de la sucesión si $r=0$?\n",
    "\n"
   ]
  },
  {
   "cell_type": "markdown",
   "metadata": {},
   "source": [
    "\n",
    " \n",
    "**Crecimiento de células**\n",
    "En un experimento de laboratorio, una colonia de células se divide en dos cada día. Si comenzamos con una sola célula, el número de células después de $n$ días es:\n",
    "$$ a_n = 2^n $$\n",
    "\n",
    "\n",
    "\n",
    "**Metabolismo de medicamentos**\n",
    "Consideremos un medicamento administrado a un paciente que se metaboliza a la mitad cada hora. Si la concentración inicial del medicamento es de $8$ mg/mL, la concentración después de $n$ horas es:\n",
    "$$ a_n = 8 \\cdot \\left( \\frac{1}{2} \\right)^n $$\n",
    "\n",
    "\n",
    "\n",
    "**Degradación de sustancias en el cuerpo**\n",
    "Supongamos que una sustancia tóxica en el cuerpo se reduce a un tercio de su concentración original cada hora. Si la concentración inicial es de $27$ mg/L, la concentración después de $n$ horas es:\n",
    "$$ a_n = 27 \\cdot \\left( \\frac{1}{3} \\right)^n $$"
   ]
  },
  {
   "cell_type": "markdown",
   "metadata": {},
   "source": [
    "## Definicición de una sucesión acotada\n",
    "\n",
    "Una sucesión $\\{a_n\\}$ se dice que está acotada si existe un número real $M$ tal que $|a_n| \\leq M$ para todo $n$ en el conjunto de números naturales. En otras palabras, una sucesión está acotada si todos sus términos son menores o iguales a un número real fijo $M$.\n",
    "\n",
    "\n",
    "## Definición de una sucesión monótona\n",
    "\n",
    "Una sucesión $\\{a_n\\}$ se dice que es creciente si \n",
    "$$a_{n+1} \\geq a_n$$ para todo $n$ en el conjunto de números naturales, en el caso que la desigualdad sea estricta se dice que es estrictamente creciente.\n",
    "\n",
    "\n",
    "De manera similar, una sucesión $\\{a_n\\}$ se dice que es decreciente si $$a_{n+1} \\leq a_n$$ para todo $n$ en el conjunto de números naturales. En otras palabras, una sucesión es decreciente si cada término es menor o igual al término anterior. Si la desigualdad es estricta se dice que es estrictamente decreciente.\n",
    "\n",
    "Una sucesión se dice monótona si es creciente o decreciente."
   ]
  },
  {
   "cell_type": "markdown",
   "metadata": {},
   "source": [
    "Para ver que una sucesión es creciente  podemos estudiar las siguientes inecuaciones \n",
    "\n",
    "+ $a_{n+1}-a_n\\geq 0$\n",
    "\n",
    "+ $\\frac{a_{n+1}}{a_n}\\geq 1$"
   ]
  },
  {
   "cell_type": "markdown",
   "metadata": {},
   "source": [
    "# Teorema\n",
    "\n",
    "Si una sucesión es acotada y monótona entonces converge. \n",
    "\n",
    "# Ejemplo \n",
    "\n",
    "1. $a_n=\\frac{1}{n}$ es acotada y decreciente.\n",
    " \n",
    "    \n",
    "    Note que $a_n=\\frac{1}{n}$ es acotada puesto que $a_n<1$ para todo $n$ en el conjunto de números naturales. \n",
    "    \n",
    "    Puesto que $a_{n+1}-a_n=\\frac{1}{n+1}-\\frac{1}{n}=\\frac{n-(n+1)}{n(n+1)}=-\\frac{1}{n(n+1)}<0$ para todo $n$ en el conjunto de números naturales.\n",
    "\n",
    " 2. $a_n=\\frac{1}{n^2}$ es acotada y decreciente.\n",
    "\n",
    "    Note que $a_n=\\frac{1}{n}$ es acotada puesto que $a_n<1$ para todo $n$ en el conjunto de números naturales. \n",
    "\n",
    "    Puesto que $\\frac{a_{n+1}}{a_n}=\\frac{\\frac{1}{(n+1)^2}}{\\frac{1}{n^2}}=\\frac{n^2}{(n+1)^2}<1$ para todo $n$ en el conjunto de números naturales.\n",
    "\n",
    "3. $a_n=\\frac{2n^2+n-1}{n^2}$ es acotada y creciente.\n",
    "\n",
    "    Note que $a_n=\\frac{2n^2+n-1}{n^2}$ es acotada puesto que $a_n<3$ para todo $n$ en el conjunto de números naturales. \n",
    "    \n",
    "    Puesto que $a_{n+1}-a_n=\\frac{2(n+1)^2+(n+1)-1}{(n+1)^2}-\\frac{2n^2+n-1}{n^2}=\\frac{2n^2+4n+2+n+1-1-2n^2-n+1}{n^2(n+1)^2}=\\frac{3n+2}{n^2(n+1)^2}>0$ para todo $n$ en el conjunto de números naturales."
   ]
  },
  {
   "cell_type": "code",
   "execution_count": 34,
   "metadata": {},
   "outputs": [
    {
     "data": {
      "image/png": "[encoded data removed]",
      "text/plain": [
       "<Figure size 1000x600 with 1 Axes>"
      ]
     },
     "metadata": {},
     "output_type": "display_data"
    }
   ],
   "source": [
    "\n",
    "import matplotlib.pyplot as plt\n",
    "import numpy as np\n",
    "from ipywidgets import interact, FloatSlider\n",
    "\n",
    "rango=20\n",
    "def function():\n",
    "    N = []\n",
    "    for j in range(rango):\n",
    "        N.append((1)/(j+1))\n",
    "    \n",
    "    plt.figure(figsize=(10, 6))\n",
    "    plt.plot(range(1, rango+1),N, marker='o', linestyle='', color='b')\n",
    "    plt.title('Logistic Function')\n",
    "    plt.xlabel('Iterations')\n",
    "    plt.ylabel('Population')\n",
    "    plt.grid(True)\n",
    "    plt.show()\n",
    "\n",
    "function()\n"
   ]
  },
  {
   "cell_type": "markdown",
   "metadata": {},
   "source": [
    "**Concentración de un medicamento**\n",
    "\n",
    "Un medicamento se administra a un paciente a la misma hora todos los días. Supongamos que la concentración del medicamento es $C_n$ (medida en mg/mL) después de la inyección en el día $n$. Antes de la inyección del día siguiente, solo el 30\\% del medicamento presente el día anterior permanece en el torrente sanguíneo. Si la dosis diaria aumenta la concentración en 0.2 mg/mL, encuentra la concentración después de cuatro días.\n",
    "\n",
    "**Solución**\n",
    "\n",
    "La concentración del medicamento después de la inyección en el día $n$ se puede expresar como:\n",
    "\n",
    "$$C_n = 0.3 \\cdot C_{n-1} + 0.2$$\n",
    "\n",
    "Así \n",
    "\n",
    "$$C_1 = 0.3 \\cdot C_{0} + 0.2$$\n",
    "\n",
    "$$C_2 = 0.3 \\cdot C_{1} + 0.2$$\n",
    "\n",
    "$$C_3 = 0.3 \\cdot C_{2} + 0.2$$\n",
    "\n",
    "$$C_4 = 0.3 \\cdot C_{3} + 0.2$$\n",
    "\n",
    "Sustituyendo $C_1$ en $C_2$ y así sucesivamente tenemos\n",
    "\n",
    "$$C_2 = 0.3 \\cdot \\Big(0.3 \\cdot C_{0} + 0.2\\Big) + 0.2$$\n",
    "\n",
    "¿Podemos calcular el límite de la sucesión?\n"
   ]
  },
  {
   "cell_type": "code",
   "execution_count": 36,
   "metadata": {},
   "outputs": [
    {
     "data": {
      "image/png": "[encoded data removed]",
      "text/plain": [
       "<Figure size 1000x600 with 1 Axes>"
      ]
     },
     "metadata": {},
     "output_type": "display_data"
    }
   ],
   "source": [
    "import matplotlib.pyplot as plt\n",
    "import numpy as np\n",
    "from ipywidgets import interact, FloatSlider\n",
    "\n",
    "rango=20\n",
    "def function():\n",
    "    N = [0]\n",
    "    for j in range(rango):\n",
    "        N.append(0.3*N[-1]+0.2)\n",
    "    \n",
    "    plt.figure(figsize=(10, 6))\n",
    "    plt.plot(range(1, rango+2),N, marker='o', linestyle='', color='b')\n",
    "    plt.title('Logistic Function')\n",
    "    plt.xlabel('Iterations')\n",
    "    plt.ylabel('Population')\n",
    "    plt.grid(True)\n",
    "    plt.show()\n",
    "\n",
    "function()"
   ]
  },
  {
   "cell_type": "markdown",
   "metadata": {},
   "source": [
    "Si suponemos que la serie converge entonces\n",
    "\n",
    "$$\\lim_{n \\to \\infty} C_n = C$$\n",
    "\n",
    "luego \n",
    "\n",
    "$$C_{n+1} = 0.3 \\cdot C_{n} + 0.2$$\n",
    "tomando límites en ambos lados de la ecuación anterior tenemos\n",
    "\n",
    "$$\\lim_{n \\to \\infty} C_{n+1} = 0.3 \\cdot \\lim_{n \\to \\infty} C_{n} + 0.2$$\n",
    "por las propiedades de los límites tenemos\n",
    "\n",
    "$$C = 0.3 \\cdot C + 0.2$$\n",
    "\n",
    "despejando $C$ tenemos\n",
    "\n",
    "$$C = \\frac{0.2}{0.7}=\\frac{2}{4}\\approx 0.2857 mg/mL$$"
   ]
  },
  {
   "cell_type": "markdown",
   "metadata": {},
   "source": [
    "## Ejercicio\n",
    "\n",
    "\n",
    "$$ x_{t+1}=r x_t(1-x_t)$$\n",
    "**Ecuación de diferencia logística** Calcule grafique los primeros 30 términos de la ecuación logística  en los siguientes casos. Luego describa el comportamiento\n",
    "+ $x_0=0.8,r=2.8$\n",
    "+ $x_0=0.4,r=3.4$\n"
   ]
  },
  {
   "cell_type": "code",
   "execution_count": 45,
   "metadata": {},
   "outputs": [
    {
     "data": {
      "image/png": "[encoded data removed]",
      "text/plain": [
       "<Figure size 640x480 with 1 Axes>"
      ]
     },
     "metadata": {},
     "output_type": "display_data"
    }
   ],
   "source": [
    "import numpy as np\n",
    "\n",
    "import matplotlib.pyplot as plt\n",
    "\n",
    "def logistic_equation(x0, r, iterations):\n",
    "    x = [x0]\n",
    "    for _ in range(iterations):\n",
    "        x.append(r * x[-1] * (1 - x[-1]))\n",
    "    \n",
    "    plt.plot(range(1, iterations+2),x, marker='o', linestyle='', color='b')\n",
    "    plt.xlabel('Iterations')\n",
    "    plt.ylabel('Population')\n",
    "    plt.title('Logistic Equation')\n",
    "    plt.grid(True)\n",
    "    plt.show()\n",
    "\n",
    "x0 = 0.8\n",
    "r = 2.8\n",
    "iterations = 30\n",
    "\n",
    "logistic_equation(x0, r, iterations)"
   ]
  },
  {
   "cell_type": "markdown",
   "metadata": {},
   "source": [
    "+ ¿Converge la sucesión?\n",
    "+ Si converge entonces ¿a qué valor converge?"
   ]
  }
 ],
 "metadata": {
  "kernelspec": {
   "display_name": "Python 3",
   "language": "python",
   "name": "python3"
  },
  "language_info": {
   "codemirror_mode": {
    "name": "ipython",
    "version": 3
   },
   "file_extension": ".py",
   "mimetype": "text/x-python",
   "name": "python",
   "nbconvert_exporter": "python",
   "pygments_lexer": "ipython3",
   "version": "3.12.3"
  }
 },
 "nbformat": 4,
 "nbformat_minor": 2
}
