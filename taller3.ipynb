{
 "cells": [
  {
   "cell_type": "markdown",
   "metadata": {},
   "source": [
    "# Taller 3\n",
    "\n",
    "\n",
    "**Encuentre los primeros 10 números de la sucesión**\n",
    "\n",
    "1.  Encuentre el límite de las siguientes funciones \n",
    "\n",
    "\n",
    "+ $\\lim_{x\\to 0} x^2+3x-5$\n",
    "\n",
    "+ $\\lim_{x\\to -3} 16x^3-22x-2$\n",
    "\n",
    "+ $\\lim_{x\\to 0} \\frac{x^2-1}{x-1}$\n",
    "\n",
    "+ $\\lim_{x\\to 0} \\frac{x^2+3x^3+x}{x}$\n",
    "\n",
    "+ $\\lim_{x\\to 0} \\frac{x^2-1}{x^3+1}$\n",
    "\n",
    "+ $\\lim_{x\\to 1} \\frac{x^2-1}{x^3-1}$\n",
    "\n",
    "2. El número de personas con VIH en Nueva York a principios de la década de 1980 está bien descrito por la función $P(t)=−80+16t+121t2$, donde $t$ mide los años desde 1982. Los epidemiólogos llaman a $P(t)$ la prevalencia del VIH en el tiempo $t$. La incidencia del VIH es el número de nuevas infecciones por unidad de tiempo en un intervalo de tiempo específico.\n",
    "\n",
    "![HIV](figures/HIV.png)\n",
    "\n",
    "\n",
    "The code above will include the image \"HIV.png\" located in the \"figure\" directory. Make sure the file path is correct and the image file exists in the specified location.\n",
    "\n",
    "+ ¿Cuál fue la incidencia del VIH durante los 12 meses de 1983? Para calcular esto debe calcular \n",
    "$$\\frac{P(1)-P(0)}{1-0}$$\n",
    "\n",
    "+ ¿Cuál fue la incidencia del VIH durante el primer mes de 1983?\n",
    "\n",
    "+ Calcula el valor límite de la incidencia a medida que el intervalo de tiempo se reduce a cero.\n",
    "\n",
    "\n",
    "3. Calcule el límite \n",
    "\n",
    "\n",
    "$$\\lim_{x\\to 0} \\frac{|x|}{x}$$\n",
    "\n",
    "\n",
    "4. Use una herramienta computacional para graficar las funciones \n",
    "\n",
    "+ $y_1=x^2$ \n",
    "\n",
    "+ $y_2=-x^2$\n",
    "\n",
    "+ $y_3=\\sin\\Big(\\frac{1}{x}\\Big)$\n",
    "\n",
    "\n",
    "Note que  \n",
    "$$-x^2 \\leq \\sin\\Big(\\frac{1}{x}\\Big) \\leq x^2$$\n",
    "\n",
    "¿Cual seria el límite de la función $\\sin\\Big(\\frac{1}{x}\\Big)$ cuando $x$ tiende a cero?"
   ]
  },
  {
   "cell_type": "markdown",
   "metadata": {},
   "source": [
    "5. Se proporcionan las gráficas de ff y tt. Úsalas para evaluar cada límite, si existe. Si el límite no existe, explica por qué.\n",
    "\n",
    "\n",
    "+ $\\lim_{x\\to 2} [f(x)+g(x)]$\n",
    "\n",
    "+  $\\lim_{x\\to 1} [f(x)+g(x)]$\n",
    "\n",
    "+ $\\lim_{x\\to 0} [f(x)g(x)]$\n",
    "\n",
    "+ $\\lim_{x\\to -1} \\frac{f(x)}{g(x)}$\n",
    "\n",
    "+ $\\lim_{x\\to 1} \\\\sqrt{3+f(x)}$\n",
    "\n",
    "+ $\\lim_{x\\to 2} x^3 f(x)$\n",
    "\n",
    "\n",
    "![](figures/ejelimi.png)"
   ]
  }
 ],
 "metadata": {
  "kernelspec": {
   "display_name": "Python 3 (ipykernel)",
   "language": "python",
   "name": "python3"
  },
  "language_info": {
   "codemirror_mode": {
    "name": "ipython",
    "version": 3
   },
   "file_extension": ".py",
   "mimetype": "text/x-python",
   "name": "python",
   "nbconvert_exporter": "python",
   "pygments_lexer": "ipython3",
   "version": "3.12.3"
  }
 },
 "nbformat": 4,
 "nbformat_minor": 4
}
