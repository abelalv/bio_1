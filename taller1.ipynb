{
 "cells": [
  {
   "cell_type": "markdown",
   "metadata": {},
   "source": [
    "# Taller 1\n",
    "\n",
    "\n",
    "Encuentra una fórmula para el término general a n de la secuencia,\n",
    "suponiendo que el patrón de los primeros términos continúa\n",
    "\n",
    "1. $\\ $  $1,\\frac{1}{3},\\frac{1}{5},\\frac{1}{7},\\frac{1}{9},\\cdots$\n",
    "\n",
    "2. $\\ $  $5,8,11,14,17,\\cdots$\n",
    "\n",
    "Encuentre los seis primeros términos de la sucesión \n",
    "\n",
    "3.  $a_n=3n-1$  con $a_1=2$\n",
    "4.  $a_{n+1}=4a_n-2a_{n-1}$  con $a_1=1$ y $a_2=4$\n",
    "\n",
    "5. **Cosecha de peces**  Un piscicultor tiene $5000$ bagres en su estanque. La cantidad de bagres aumenta un $8\\%$ por mes y el piscicultor cosecha 300 bagres por mes.\n",
    " \n",
    "  + Demuestre que la población de bagres $P_n$ después de $n$ meses está dada de manera recursiva por\n",
    "$$P_n = 1.08P_{n-1}-300\\text{ con}  P_0 = 5000$$\n",
    "  + ¿Cuántos bagres hay en el estanque después de seis meses?\n",
    "\n",
    "6. **Concentración de fármaco**\n",
    "\n",
    "    Supongamos que $C_t$ es la concentración de un fármaco en el torrente sanguíneo en el tiempo $t$, $A$ es la concentración del fármaco que se administra en cada paso de tiempo, y $k$ es la fracción del fármaco que se metaboliza en un paso de tiempo.\n",
    "\n",
    "+ ¿Cuál es la recurrencia que modela cómo cambia la concentración del fármaco?\n",
    "    \n",
    "+ Si la concentración inicial es $C_0 = 120$ mg/mL, $A = 80$ mg/mL y $k = 0.12$, grafica algunos puntos en la gráfica de $C_t$. ¿Es similar la gráfica para otros valores de $A$ y $k$?\n",
    "\n",
    "** Puedes usar el siguiente código para graficar **"
   ]
  },
  {
   "cell_type": "code",
   "execution_count": 1,
   "metadata": {},
   "outputs": [
    {
     "data": {
      "application/vnd.jupyter.widget-view+json": {
       "model_id": "f42fd0098c68418c87783e9cc00b4026",
       "version_major": 2,
       "version_minor": 0
      },
      "text/plain": [
       "interactive(children=(IntSlider(value=100, description='C0', max=150, min=100, step=5), IntSlider(value=50, de…"
      ]
     },
     "metadata": {},
     "output_type": "display_data"
    },
    {
     "data": {
      "text/plain": [
       "<function __main__.actualizar_grafica(C0, A, k, n_max=50)>"
      ]
     },
     "execution_count": 1,
     "metadata": {},
     "output_type": "execute_result"
    }
   ],
   "source": [
    "import numpy as np\n",
    "import matplotlib.pyplot as plt\n",
    "from ipywidgets import interact, IntSlider, FloatSlider\n",
    "\n",
    "# Definir la función de recurrencia para la concentración de fármaco\n",
    "def calcular_concentracion(n_max, C0, A, k):\n",
    "    C = np.zeros(n_max)\n",
    "    C[0] = C0  # valor inicial C_0\n",
    "\n",
    "    for t in range(1, n_max):\n",
    "        C[t] = (1 - k) * C[t-1] + A\n",
    "\n",
    "    return C\n",
    "\n",
    "# Función para actualizar la gráfica interactiva\n",
    "def actualizar_grafica(C0, A, k, n_max=50):\n",
    "    concentracion = calcular_concentracion(n_max, C0, A, k)\n",
    "    plt.figure(figsize=(10, 6))\n",
    "    plt.plot(range(n_max), concentracion, marker='o')\n",
    "    plt.xlabel('Tiempo (t)')\n",
    "    plt.ylabel('Concentración (C_t)')\n",
    "    plt.title(f'Recurrencia $C_{{t+1}} = (1 - {k})C_t + {A}$')\n",
    "    plt.grid(True)\n",
    "    plt.ylim(0, max(200, max(concentracion) + 50))\n",
    "    plt.show()\n",
    "\n",
    "# Crear los sliders interactivos\n",
    "interact(\n",
    "    actualizar_grafica,\n",
    "    C0=IntSlider(value=100, min=100, max=150, step=5, description='C0'),\n",
    "    A=IntSlider(value=50, min=0, max=150, step=10, description='A'),\n",
    "    k=FloatSlider(value=0.1, min=0, max=1, step=0.01, description='k')\n",
    ")\n"
   ]
  }
 ],
 "metadata": {
  "kernelspec": {
   "display_name": "class",
   "language": "python",
   "name": "python3"
  },
  "language_info": {
   "codemirror_mode": {
    "name": "ipython",
    "version": 3
   },
   "file_extension": ".py",
   "mimetype": "text/x-python",
   "name": "python",
   "nbconvert_exporter": "python",
   "pygments_lexer": "ipython3",
   "version": "3.12.3"
  }
 },
 "nbformat": 4,
 "nbformat_minor": 2
}
